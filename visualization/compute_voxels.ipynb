{
 "cells": [
  {
   "cell_type": "code",
   "execution_count": null,
   "id": "245fe235",
   "metadata": {},
   "outputs": [],
   "source": [
    "import sys\n",
    "sys.path.append(\"/home/jaime/Desktop/ProteinDiff\") # need to make this a part of the env\n",
    "import torch\n",
    "from utils.model_utils.preprocesser import PreProcesser\n",
    "from data.constants import aa_2_lbl, lbl_2_aa"
   ]
  },
  {
   "cell_type": "code",
   "execution_count": null,
   "id": "080da65e",
   "metadata": {},
   "outputs": [],
   "source": [
    "# load a sample pt file\n",
    "sample = \"4l3o_A\"\n",
    "sample_data = f\"../test_data/pdb_2021aug02_sample/pdb/{sample[1:3]}/{sample}.pt\"\n",
    "pt = torch.load(sample_data, weights_only=True, map_location=\"cpu\")\n",
    "\n",
    "# load atomic coordinates, labels, atom mask, and create kp mask (positions w/ no atoms or labels=-1)\n",
    "# unsqueeze to simulate batches\n",
    "C = pt[\"xyz\"].unsqueeze(0)\n",
    "C = C.masked_fill(C.isnan(), 0.0) # get rid of nans\n",
    "L = torch.tensor([aa_2_lbl(aa) for aa in pt[\"seq\"]]).unsqueeze(0)\n",
    "atom_mask = pt[\"mask\"].unsqueeze(0)\n"
   ]
  },
  {
   "cell_type": "code",
   "execution_count": null,
   "id": "8a8bba05",
   "metadata": {},
   "outputs": [],
   "source": [
    "# instantiate the preprocessor and run it\n",
    "voxel_dims = (16,16,16)\n",
    "cell_dim = 0.75 # need to define this properly in preprocessor\n",
    "prep = PreProcesser(voxel_dims=voxel_dims, cell_dim=cell_dim)\n",
    "C_backbone, fields = prep(C, L, atom_mask)"
   ]
  },
  {
   "cell_type": "code",
   "execution_count": null,
   "id": "4e79b792",
   "metadata": {},
   "outputs": [],
   "source": [
    "# now want to plot the field of a single residue's voxel\n",
    "import numpy as np \n",
    "import plotly.graph_objects as go\n",
    "\n",
    "def plot_voxel(voxel_vectors, voxel_dims, title):\n",
    "\n",
    "    # get voxel dims\n",
    "    Vx, Vy, Vz = voxel_dims\n",
    "\n",
    "    # note that the coordinates are in the local frame of the residue\n",
    "    x, y, z = np.meshgrid(\n",
    "        cell_dim*(np.arange(Vx) - Vx/2),\n",
    "        cell_dim*(np.arange(Vy) - Vy/4),\n",
    "        cell_dim*(np.arange(Vz) - Vz/2),\n",
    "        indexing='ij'\n",
    "    )\n",
    "\n",
    "    # flatten everything for plotly\n",
    "    X = x.ravel()\n",
    "    Y = y.ravel()\n",
    "    Z = z.ravel()\n",
    "\n",
    "    # extract the xyz components of each vector in the field and flatten\n",
    "    U = voxel_vectors[0,...].ravel()\n",
    "    V = voxel_vectors[1,...].ravel()\n",
    "    W = voxel_vectors[2,...].ravel()\n",
    "\n",
    "    # compute magnitudes and extract the max for intuitive coloring based on vector magnitudes\n",
    "    magnitudes = np.linalg.norm(np.stack([U, V, W], axis=1), axis=1)\n",
    "    cmax = np.max(np.abs(magnitudes))\n",
    "\n",
    "    # make the vector field\n",
    "    fig = go.Figure(go.Cone(\n",
    "        x=X, y=Y, z=Z,\n",
    "        u=U, v=V, w=W,      \n",
    "        colorscale='ice',\n",
    "        cmin=0, cmax=cmax,\n",
    "        showscale=False,\n",
    "        opacity=1.0,\n",
    "        sizemode='raw',\n",
    "        sizeref=1.0\n",
    "    ))\n",
    "\n",
    "    # add title and axes, and orient the plot\n",
    "    fig.update_layout(\n",
    "        title=title,\n",
    "        scene=dict(\n",
    "            camera=dict(\n",
    "                eye=dict(x=1.25, y=1.25, z=1.25),\n",
    "                center=dict(x=0, y=0, z=0),\n",
    "                up=dict(x=0, y=1, z=0)\n",
    "            ),\n",
    "            xaxis_title='X',\n",
    "            yaxis_title='Y',\n",
    "            zaxis_title='Z',\n",
    "            aspectmode='data'\n",
    "        )\n",
    "    )\n",
    "\n",
    "    # show\n",
    "    fig.show()"
   ]
  },
  {
   "cell_type": "code",
   "execution_count": null,
   "id": "c0c5dcc4",
   "metadata": {},
   "outputs": [],
   "source": [
    "# choose a residue, extract its voxel vector field, and print its AA\n",
    "resi = 3\n",
    "voxel_vectors = fields[0,resi,:,:,:,:] # Vx,Vy,Vz,3\n",
    "aa = lbl_2_aa(L[0,resi])\n",
    "pdb = sample[:4]\n",
    "chain = sample[5]\n",
    "plot_voxel(voxel_vectors, voxel_dims, f\"3D Vector Field of Residue Electrostatics | PDB: {pdb} | Chain: {chain} | Position: {resi} | Amino Acid: {aa}\")\n",
    "\n",
    "# also show noise\n",
    "noise = torch.randn_like(voxel_vectors)\n",
    "noise_norm = torch.linalg.vector_norm(noise, dim=0, keepdim=True)\n",
    "noise = noise / noise_norm.masked_fill(noise_norm==0,1)\n",
    "plot_voxel(noise, voxel_dims, \"Gaussian Noise\")"
   ]
  },
  {
   "cell_type": "code",
   "execution_count": null,
   "id": "d62818b9",
   "metadata": {},
   "outputs": [],
   "source": []
  }
 ],
 "metadata": {
  "kernelspec": {
   "display_name": "protAI",
   "language": "python",
   "name": "protai"
  },
  "language_info": {
   "codemirror_mode": {
    "name": "ipython",
    "version": 3
   },
   "file_extension": ".py",
   "mimetype": "text/x-python",
   "name": "python",
   "nbconvert_exporter": "python",
   "pygments_lexer": "ipython3",
   "version": "3.12.3"
  }
 },
 "nbformat": 4,
 "nbformat_minor": 5
}
